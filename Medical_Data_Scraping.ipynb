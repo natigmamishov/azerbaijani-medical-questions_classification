{
 "cells": [
  {
   "cell_type": "code",
   "execution_count": 1,
   "id": "bc506e8a",
   "metadata": {},
   "outputs": [],
   "source": [
    "import requests\n",
    "from bs4 import BeautifulSoup\n",
    "import pandas as pd"
   ]
  },
  {
   "cell_type": "code",
   "execution_count": 2,
   "id": "d76fcc29",
   "metadata": {},
   "outputs": [],
   "source": [
    "base_url=\"https://m.tibb.az/page/106\""
   ]
  },
  {
   "cell_type": "code",
   "execution_count": 3,
   "id": "bfe4a1e4",
   "metadata": {},
   "outputs": [],
   "source": [
    "def get_soup(url):\n",
    "    \n",
    "    while True:\n",
    "        \n",
    "        try:\n",
    "            request=requests.get(url)\n",
    "            \n",
    "            content=request.content\n",
    "            \n",
    "            soup=BeautifulSoup(content, 'html.parser')\n",
    "            \n",
    "            return soup\n",
    "            \n",
    "        except:\n",
    "\n",
    "            pass"
   ]
  },
  {
   "cell_type": "code",
   "execution_count": 4,
   "id": "236bf9f1",
   "metadata": {},
   "outputs": [],
   "source": [
    "def get_doctors(url):\n",
    "    \n",
    "    soup=get_soup(url)\n",
    "    \n",
    "    div=soup.find('div', {'class': 'cont_pan'}).find_all('div', 'doctor_pan_inf')\n",
    "    \n",
    "    doctors={row.find('a').get('href'): row.text.strip() for row in div}\n",
    "    \n",
    "    return doctors"
   ]
  },
  {
   "cell_type": "code",
   "execution_count": 5,
   "id": "5b7aadf3",
   "metadata": {},
   "outputs": [],
   "source": [
    "doctors=get_doctors(base_url)"
   ]
  },
  {
   "cell_type": "code",
   "execution_count": 6,
   "id": "e4f61154",
   "metadata": {},
   "outputs": [
    {
     "name": "stdout",
     "output_type": "stream",
     "text": [
      "{'/doctor/16': 'Ümumi cərrah \\nRafail Abdullayev', '/doctor/23': 'Pediatr \\nCəmilə Hüseynova', '/doctor/42': 'Psixoterapevt \\nRəna Tağıyeva', '/doctor/51': 'Cərrah-proktoloq \\nElgün Səmədov', '/doctor/40': 'Uroloq \\nMahir Şirinov', '/doctor/17': 'Ginekoloq \\nNaibə Həsənova', '/doctor/13': 'Oftalmoloq \\nKönül Feyziyeva', '/doctor/43': 'Hepatoloq \\nNicat Tağıyev', '/doctor/27': 'Endokrinoloq \\nMənsurə Şıxəliyeva', '/doctor/22': 'Kardioloq \\nRəna Səmədova', '/doctor/46': 'Plastik cərrah \\nXəyal Aşurəliyev', '/doctor/12': 'LOR həkimi \\nHafiz Mehdiyev', '/doctor/41': 'Allerqoloq \\nFəxri Hüseynov', '/doctor/36': 'Endoskopist \\nUmud Mahmudov', '/doctor/10': 'Proktoloq \\nDilarə Həsənova', '/doctor/45': 'Nevropatoloq \\nFərhad Əhmədov', '/doctor/5': 'Psixoloq \\nElnur Rüstəmov', '/doctor/15': 'Qastroenteroloq \\nSəbirə Səfərova', '/doctor/19': 'Dermato veneroloq \\nŞahin Bədəlov'}\n"
     ]
    }
   ],
   "source": [
    "print(doctors)"
   ]
  },
  {
   "cell_type": "code",
   "execution_count": 7,
   "id": "52b1224c",
   "metadata": {},
   "outputs": [],
   "source": [
    "def get_pages(url):\n",
    "    \n",
    "    pages=[]\n",
    "    \n",
    "    number=2\n",
    "    \n",
    "    while True:\n",
    "        \n",
    "        new_url=url+f'/pg/{number}'\n",
    "        \n",
    "        soup=get_soup(new_url)\n",
    "        \n",
    "        question_table=soup.find_all('div', {'class': 'doc_feed_pan_ques'})\n",
    "        \n",
    "        if question_table==[]:\n",
    "            break\n",
    "            \n",
    "        pages.append(new_url)\n",
    "        \n",
    "        number+=1\n",
    "        \n",
    "    pages.insert(0, url)\n",
    "    \n",
    "    return pages"
   ]
  },
  {
   "cell_type": "code",
   "execution_count": 8,
   "id": "7a607779",
   "metadata": {},
   "outputs": [],
   "source": [
    "def get_questions(url):\n",
    "    \n",
    "    pages=get_pages(url)\n",
    "    \n",
    "    all_questions=[]\n",
    "    \n",
    "    for page in pages:\n",
    "    \n",
    "        soup=get_soup(page)\n",
    "    \n",
    "        questions_div=soup.find_all('div', {'class': 'doc_feed_pan_ques'})\n",
    "        \n",
    "        questions=[row.text for row in questions_div]\n",
    "    \n",
    "        all_questions.extend(questions)\n",
    "    \n",
    "    return all_questions"
   ]
  },
  {
   "cell_type": "markdown",
   "id": "fada1b6f",
   "metadata": {},
   "source": [
    "### Main code"
   ]
  },
  {
   "cell_type": "code",
   "execution_count": 9,
   "id": "97539994",
   "metadata": {},
   "outputs": [],
   "source": [
    "data={'doctor_name':[], 'questions':[]}"
   ]
  },
  {
   "cell_type": "code",
   "execution_count": 10,
   "id": "9e85633d",
   "metadata": {},
   "outputs": [
    {
     "name": "stdout",
     "output_type": "stream",
     "text": [
      "https://m.tibb.az/doctor/16 Ümumi cərrah \n",
      "Rafail Abdullayev\n",
      "https://m.tibb.az/doctor/23 Pediatr \n",
      "Cəmilə Hüseynova\n",
      "https://m.tibb.az/doctor/42 Psixoterapevt \n",
      "Rəna Tağıyeva\n",
      "https://m.tibb.az/doctor/51 Cərrah-proktoloq \n",
      "Elgün Səmədov\n",
      "https://m.tibb.az/doctor/40 Uroloq \n",
      "Mahir Şirinov\n",
      "https://m.tibb.az/doctor/17 Ginekoloq \n",
      "Naibə Həsənova\n",
      "https://m.tibb.az/doctor/13 Oftalmoloq \n",
      "Könül Feyziyeva\n",
      "https://m.tibb.az/doctor/43 Hepatoloq \n",
      "Nicat Tağıyev\n",
      "https://m.tibb.az/doctor/27 Endokrinoloq \n",
      "Mənsurə Şıxəliyeva\n",
      "https://m.tibb.az/doctor/22 Kardioloq \n",
      "Rəna Səmədova\n",
      "https://m.tibb.az/doctor/46 Plastik cərrah \n",
      "Xəyal Aşurəliyev\n",
      "https://m.tibb.az/doctor/12 LOR həkimi \n",
      "Hafiz Mehdiyev\n",
      "https://m.tibb.az/doctor/41 Allerqoloq \n",
      "Fəxri Hüseynov\n",
      "https://m.tibb.az/doctor/36 Endoskopist \n",
      "Umud Mahmudov\n",
      "https://m.tibb.az/doctor/10 Proktoloq \n",
      "Dilarə Həsənova\n",
      "https://m.tibb.az/doctor/45 Nevropatoloq \n",
      "Fərhad Əhmədov\n",
      "https://m.tibb.az/doctor/5 Psixoloq \n",
      "Elnur Rüstəmov\n",
      "https://m.tibb.az/doctor/15 Qastroenteroloq \n",
      "Səbirə Səfərova\n",
      "https://m.tibb.az/doctor/19 Dermato veneroloq \n",
      "Şahin Bədəlov\n"
     ]
    }
   ],
   "source": [
    "for doctor_code, doctor_name in doctors.items():\n",
    "    \n",
    "    print('https://m.tibb.az'+doctor_code, doctor_name)\n",
    "    \n",
    "    questions=get_questions('https://m.tibb.az'+doctor_code)\n",
    "    \n",
    "    data['doctor_name'].extend([doctor_name for i in range(len(questions))])\n",
    "    \n",
    "    data['questions'].extend(questions)"
   ]
  },
  {
   "cell_type": "code",
   "execution_count": 11,
   "id": "3edf2d32",
   "metadata": {},
   "outputs": [],
   "source": [
    "df=pd.DataFrame(data)"
   ]
  },
  {
   "cell_type": "code",
   "execution_count": 12,
   "id": "ab51b4a9",
   "metadata": {},
   "outputs": [
    {
     "data": {
      "text/plain": [
       "(29435, 2)"
      ]
     },
     "execution_count": 12,
     "metadata": {},
     "output_type": "execute_result"
    }
   ],
   "source": [
    "df.shape"
   ]
  },
  {
   "cell_type": "code",
   "execution_count": 13,
   "id": "d3e55062",
   "metadata": {},
   "outputs": [
    {
     "data": {
      "text/html": [
       "<div>\n",
       "<style scoped>\n",
       "    .dataframe tbody tr th:only-of-type {\n",
       "        vertical-align: middle;\n",
       "    }\n",
       "\n",
       "    .dataframe tbody tr th {\n",
       "        vertical-align: top;\n",
       "    }\n",
       "\n",
       "    .dataframe thead th {\n",
       "        text-align: right;\n",
       "    }\n",
       "</style>\n",
       "<table border=\"1\" class=\"dataframe\">\n",
       "  <thead>\n",
       "    <tr style=\"text-align: right;\">\n",
       "      <th></th>\n",
       "      <th>doctor_name</th>\n",
       "      <th>questions</th>\n",
       "    </tr>\n",
       "  </thead>\n",
       "  <tbody>\n",
       "    <tr>\n",
       "      <th>0</th>\n",
       "      <td>Ümumi cərrah \\nRafail Abdullayev</td>\n",
       "      <td>\\n\\t\\t\\t\\t\\t\\t\\t\\t\\t\\tSalam hekim men bugun me...</td>\n",
       "    </tr>\n",
       "    <tr>\n",
       "      <th>1</th>\n",
       "      <td>Ümumi cərrah \\nRafail Abdullayev</td>\n",
       "      <td>\\n\\t\\t\\t\\t\\t\\t\\t\\t\\t\\tsalam hekim 17 yasli usa...</td>\n",
       "    </tr>\n",
       "    <tr>\n",
       "      <th>2</th>\n",
       "      <td>Ümumi cərrah \\nRafail Abdullayev</td>\n",
       "      <td>\\n\\t\\t\\t\\t\\t\\t\\t\\t\\t\\tSalam doxdor mende her i...</td>\n",
       "    </tr>\n",
       "    <tr>\n",
       "      <th>3</th>\n",
       "      <td>Ümumi cərrah \\nRafail Abdullayev</td>\n",
       "      <td>\\n\\t\\t\\t\\t\\t\\t\\t\\t\\t\\tSalam hekim,menim oglumu...</td>\n",
       "    </tr>\n",
       "    <tr>\n",
       "      <th>4</th>\n",
       "      <td>Ümumi cərrah \\nRafail Abdullayev</td>\n",
       "      <td>\\n\\t\\t\\t\\t\\t\\t\\t\\t\\t\\tSalam padaqra ağrısı üçü...</td>\n",
       "    </tr>\n",
       "  </tbody>\n",
       "</table>\n",
       "</div>"
      ],
      "text/plain": [
       "                        doctor_name  \\\n",
       "0  Ümumi cərrah \\nRafail Abdullayev   \n",
       "1  Ümumi cərrah \\nRafail Abdullayev   \n",
       "2  Ümumi cərrah \\nRafail Abdullayev   \n",
       "3  Ümumi cərrah \\nRafail Abdullayev   \n",
       "4  Ümumi cərrah \\nRafail Abdullayev   \n",
       "\n",
       "                                           questions  \n",
       "0  \\n\\t\\t\\t\\t\\t\\t\\t\\t\\t\\tSalam hekim men bugun me...  \n",
       "1  \\n\\t\\t\\t\\t\\t\\t\\t\\t\\t\\tsalam hekim 17 yasli usa...  \n",
       "2  \\n\\t\\t\\t\\t\\t\\t\\t\\t\\t\\tSalam doxdor mende her i...  \n",
       "3  \\n\\t\\t\\t\\t\\t\\t\\t\\t\\t\\tSalam hekim,menim oglumu...  \n",
       "4  \\n\\t\\t\\t\\t\\t\\t\\t\\t\\t\\tSalam padaqra ağrısı üçü...  "
      ]
     },
     "execution_count": 13,
     "metadata": {},
     "output_type": "execute_result"
    }
   ],
   "source": [
    "df.head()"
   ]
  },
  {
   "cell_type": "code",
   "execution_count": 14,
   "id": "d8318e4a",
   "metadata": {},
   "outputs": [
    {
     "data": {
      "text/plain": [
       "(29435, 2)"
      ]
     },
     "execution_count": 14,
     "metadata": {},
     "output_type": "execute_result"
    }
   ],
   "source": [
    "df.shape"
   ]
  },
  {
   "cell_type": "code",
   "execution_count": 15,
   "id": "fc8cedbb",
   "metadata": {},
   "outputs": [],
   "source": [
    "df.to_csv('medical_questions.csv', index=False)"
   ]
  }
 ],
 "metadata": {
  "kernelspec": {
   "display_name": "Python 3 (ipykernel)",
   "language": "python",
   "name": "python3"
  },
  "language_info": {
   "codemirror_mode": {
    "name": "ipython",
    "version": 3
   },
   "file_extension": ".py",
   "mimetype": "text/x-python",
   "name": "python",
   "nbconvert_exporter": "python",
   "pygments_lexer": "ipython3",
   "version": "3.11.5"
  }
 },
 "nbformat": 4,
 "nbformat_minor": 5
}
